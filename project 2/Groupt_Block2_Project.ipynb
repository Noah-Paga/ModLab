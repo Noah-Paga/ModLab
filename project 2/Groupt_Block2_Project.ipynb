{
 "cells": [
  {
   "cell_type": "markdown",
   "id": "88054c29",
   "metadata": {},
   "source": [
    "1. we should compute (density, ASA, POAV, POAV_Volume_fraction)\n",
    "2. Henry coeff for CO2, N2\n",
    "3. Pure isotherms for CO2, N2\n",
    "\n",
    "problems with ZIF-90 N2 isotherms (both Henry and pure)"
   ]
  }
 ],
 "metadata": {
  "kernelspec": {
   "display_name": "ppchem",
   "language": "python",
   "name": "python3"
  },
  "language_info": {
   "codemirror_mode": {
    "name": "ipython",
    "version": 3
   },
   "file_extension": ".py",
   "mimetype": "text/x-python",
   "name": "python",
   "nbconvert_exporter": "python",
   "pygments_lexer": "ipython3",
   "version": "3.10.16"
  }
 },
 "nbformat": 4,
 "nbformat_minor": 5
}
