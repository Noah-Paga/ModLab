{
 "cells": [
  {
   "cell_type": "markdown",
   "id": "88054c29",
   "metadata": {},
   "source": [
    "2. Henry coeff for CO2, N2\n",
    "3. Pure isotherms for CO2, N2\n",
    "\n",
    "problems with ZIF-90 N2 isotherms (both Henry and pure)"
   ]
  },
  {
   "cell_type": "markdown",
   "id": "bc4ebc5b",
   "metadata": {},
   "source": [
    "#### 1) Properties of materials"
   ]
  },
  {
   "cell_type": "code",
   "execution_count": 1,
   "id": "84432d8c",
   "metadata": {},
   "outputs": [],
   "source": [
    "import pandas as pd\n",
    "import matplotlib.pyplot as plt\n",
    "import numpy as np\n",
    "import pyiast as pyiast\n",
    "from matplotlib.ticker import (MultipleLocator, AutoMinorLocator)"
   ]
  },
  {
   "cell_type": "code",
   "execution_count": 15,
   "id": "2d883409",
   "metadata": {},
   "outputs": [
    {
     "name": "stdout",
     "output_type": "stream",
     "text": [
      "Properties of Mg-MOF-74:\n",
      "Accessible surface area: 222.828 A^2\n",
      "Density: 0.886275 g/cm^3\n",
      "Probe-occupiable accessible volume: 837.198 A^3\n",
      "Material porosity: 0.61368\n"
     ]
    }
   ],
   "source": [
    "#Pore analysis for Mg-MOF-74\n",
    "material_data = pd.read_csv(\"Mg-MOF-74.csv\")\n",
    "print(\"Properties of Mg-MOF-74:\")\n",
    "\n",
    "surface_area = material_data[material_data['Key'] == \"ASA_A^2\"].iloc[0, 1]\n",
    "print(f\"Accessible surface area: {surface_area} A^2\")\n",
    "\n",
    "material_density = material_data[material_data['Key'] == \"Density\"].iloc[0, 1]\n",
    "print(f\"Density: {material_density} g/cm^3\")\n",
    "\n",
    "pore_volume = material_data[material_data['Key'] == \"POAV_A^3\"].iloc[0, 1]\n",
    "print(f\"Probe-occupiable accessible volume: {pore_volume} A^3\")\n",
    "\n",
    "porosity_fraction = material_data[material_data['Key'] == \"POAV_Volume_fraction\"].iloc[0, 1]\n",
    "print(f\"Material porosity: {porosity_fraction}\")"
   ]
  },
  {
   "cell_type": "code",
   "execution_count": 14,
   "id": "92c0e811",
   "metadata": {},
   "outputs": [
    {
     "name": "stdout",
     "output_type": "stream",
     "text": [
      "Properties of NOTT-300:\n",
      "Accessible surface area: 453.452 A^2\n",
      "Density: 1.03926 g/cm^3\n",
      "Probe-occupiable accessible volume: 1297.11 A^3\n",
      "Material porosity: 0.48999\n"
     ]
    }
   ],
   "source": [
    "#pore analysis is NOTT-300\n",
    "material_data = pd.read_csv(\"NOTT-300.csv\")\n",
    "print(\"Properties of NOTT-300:\")\n",
    "\n",
    "surface_area = material_data[material_data['Key'] == \"ASA_A^2\"].iloc[0, 1]\n",
    "print(f\"Accessible surface area: {surface_area} A^2\")\n",
    "\n",
    "material_density = material_data[material_data['Key'] == \"Density\"].iloc[0, 1]\n",
    "print(f\"Density: {material_density} g/cm^3\")\n",
    "\n",
    "pore_volume = material_data[material_data['Key'] == \"POAV_A^3\"].iloc[0, 1]\n",
    "print(f\"Probe-occupiable accessible volume: {pore_volume} A^3\")\n",
    "\n",
    "porosity_fraction = material_data[material_data['Key'] == \"POAV_Volume_fraction\"].iloc[0, 1]\n",
    "print(f\"Material porosity: {porosity_fraction}\")"
   ]
  },
  {
   "cell_type": "code",
   "execution_count": 13,
   "id": "2480cf06",
   "metadata": {},
   "outputs": [
    {
     "name": "stdout",
     "output_type": "stream",
     "text": [
      "Properties of UTSA-20:\n",
      "Accessible surface area: 1307.51 A^2\n",
      "Density: 0.882399 g/cm^3\n",
      "Probe-occupiable accessible volume: 3575.36 A^3\n",
      "Material porosity: 0.62907\n"
     ]
    }
   ],
   "source": [
    "#pore analysis of UTSA-20\n",
    "material_data = pd.read_csv(\"UTSA-20.csv\")\n",
    "print(\"Properties of UTSA-20:\")\n",
    "\n",
    "surface_area = material_data[material_data['Key'] == \"ASA_A^2\"].iloc[0, 1]\n",
    "print(f\"Accessible surface area: {surface_area} A^2\")\n",
    "\n",
    "material_density = material_data[material_data['Key'] == \"Density\"].iloc[0, 1]\n",
    "print(f\"Density: {material_density} g/cm^3\")\n",
    "\n",
    "pore_volume = material_data[material_data['Key'] == \"POAV_A^3\"].iloc[0, 1]\n",
    "print(f\"Probe-occupiable accessible volume: {pore_volume} A^3\")\n",
    "\n",
    "porosity_fraction = material_data[material_data['Key'] == \"POAV_Volume_fraction\"].iloc[0, 1]\n",
    "print(f\"Material porosity: {porosity_fraction}\")"
   ]
  },
  {
   "cell_type": "code",
   "execution_count": 11,
   "id": "27e3db9f",
   "metadata": {},
   "outputs": [
    {
     "name": "stdout",
     "output_type": "stream",
     "text": [
      "Properties of UTSA-80:\n",
      "Accessible surface area: 3114.62 A^2\n",
      "Density: 0.678215 g/cm^3\n",
      "Probe-occupiable accessible volume: 9619.78 A^3\n",
      "Material porosity: 0.66798\n"
     ]
    }
   ],
   "source": [
    "#pore analysis of UTSA-80\n",
    "material_data = pd.read_csv(\"UTSA-80.csv\")\n",
    "print(\"Properties of UTSA-80:\")\n",
    "\n",
    "surface_area = material_data[material_data['Key'] == \"ASA_A^2\"].iloc[0, 1]\n",
    "print(f\"Accessible surface area: {surface_area} A^2\")\n",
    "\n",
    "material_density = material_data[material_data['Key'] == \"Density\"].iloc[0, 1]\n",
    "print(f\"Density: {material_density} g/cm^3\")\n",
    "\n",
    "pore_volume = material_data[material_data['Key'] == \"POAV_A^3\"].iloc[0, 1]\n",
    "print(f\"Probe-occupiable accessible volume: {pore_volume} A^3\")\n",
    "\n",
    "porosity_fraction = material_data[material_data['Key'] == \"POAV_Volume_fraction\"].iloc[0, 1]\n",
    "print(f\"Material porosity: {porosity_fraction}\")"
   ]
  },
  {
   "cell_type": "code",
   "execution_count": 12,
   "id": "01a9531e",
   "metadata": {},
   "outputs": [
    {
     "name": "stdout",
     "output_type": "stream",
     "text": [
      "Properties of ZIF-8:\n",
      "Accessible surface area: 787.421 A^2\n",
      "Density: 0.909567 g/cm^3\n",
      "Probe-occupiable accessible volume: 2488.25 A^3\n",
      "Material porosity: 0.49906\n"
     ]
    }
   ],
   "source": [
    "#pore analysis of ZIF-8\n",
    "material_data = pd.read_csv(\"ZIF-8.csv\")\n",
    "print(\"Properties of ZIF-8:\")\n",
    "\n",
    "surface_area = material_data[material_data['Key'] == \"ASA_A^2\"].iloc[0, 1]\n",
    "print(f\"Accessible surface area: {surface_area} A^2\")\n",
    "\n",
    "material_density = material_data[material_data['Key'] == \"Density\"].iloc[0, 1]\n",
    "print(f\"Density: {material_density} g/cm^3\")\n",
    "\n",
    "pore_volume = material_data[material_data['Key'] == \"POAV_A^3\"].iloc[0, 1]\n",
    "print(f\"Probe-occupiable accessible volume: {pore_volume} A^3\")\n",
    "\n",
    "porosity_fraction = material_data[material_data['Key'] == \"POAV_Volume_fraction\"].iloc[0, 1]\n",
    "print(f\"Material porosity: {porosity_fraction}\")"
   ]
  },
  {
   "cell_type": "markdown",
   "id": "21a9651d",
   "metadata": {},
   "source": [
    "#### 2) Henry's coefficients for CO2 and N2 at 298 K"
   ]
  }
 ],
 "metadata": {
  "kernelspec": {
   "display_name": "RetroChem",
   "language": "python",
   "name": "python3"
  },
  "language_info": {
   "codemirror_mode": {
    "name": "ipython",
    "version": 3
   },
   "file_extension": ".py",
   "mimetype": "text/x-python",
   "name": "python",
   "nbconvert_exporter": "python",
   "pygments_lexer": "ipython3",
   "version": "3.13.2"
  }
 },
 "nbformat": 4,
 "nbformat_minor": 5
}
